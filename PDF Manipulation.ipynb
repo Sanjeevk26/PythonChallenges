{
 "cells": [
  {
   "cell_type": "markdown",
   "id": "501fab80",
   "metadata": {},
   "source": [
    "## Problem Statement:\n",
    "\n",
    "### One of my friends was preparing for an MBA exam. He had a pdf file with words and their root languages in it. The problem was, he wanted to remeber the words of a particular language but the words were sorted alphabetically. Below mentioned is the screenshot of the image."
   ]
  },
  {
   "cell_type": "markdown",
   "id": "d2232ca2",
   "metadata": {},
   "source": [
    "![image](Roots.png)"
   ]
  },
  {
   "cell_type": "markdown",
   "id": "6c5dae40",
   "metadata": {},
   "source": [
    "### Goal: The goal is to filter the words by language."
   ]
  },
  {
   "cell_type": "code",
   "execution_count": 13,
   "id": "5c4f285c",
   "metadata": {},
   "outputs": [],
   "source": [
    "import PyPDF2 # Most popular library for PDF manipulation\n",
    "import pandas as pd # importing pandas for creating a data frame"
   ]
  },
  {
   "cell_type": "code",
   "execution_count": 14,
   "id": "23bfa994",
   "metadata": {},
   "outputs": [],
   "source": [
    "# creating a pdf file object\n",
    "pdfFileObj = open('Roots.pdf', 'rb') "
   ]
  },
  {
   "cell_type": "code",
   "execution_count": 15,
   "id": "a612b236",
   "metadata": {},
   "outputs": [],
   "source": [
    "# creating a pdf reader object\n",
    "pdfReader = PyPDF2.PdfFileReader(pdfFileObj) "
   ]
  },
  {
   "cell_type": "code",
   "execution_count": 16,
   "id": "d5bbc4e3",
   "metadata": {},
   "outputs": [],
   "source": [
    "count = pdfReader.numPages"
   ]
  },
  {
   "cell_type": "code",
   "execution_count": 17,
   "id": "574c144c",
   "metadata": {},
   "outputs": [
    {
     "data": {
      "text/plain": [
       "['LIST OF FOREIGN WORDS FOR IIFT', 'acme', 'Greek', 'adieu', 'French']"
      ]
     },
     "execution_count": 17,
     "metadata": {},
     "output_type": "execute_result"
    }
   ],
   "source": [
    "output = ''      # String which contains output of all the pages.\n",
    "root_dict = {}   # Dictionary with language as it's key and words as it's values.\n",
    "\n",
    "for i in range(count):\n",
    "    page = pdfReader.getPage(i)  # Readinig each page\n",
    "    output += page.extractText() # Adding text of every page to output.\n",
    "page_text = output.split(\"\\n\")   # Splitting the output string by '\\n' (break line chracter) to get a list of all words.\n",
    "   \n",
    "page_text[:5] "
   ]
  },
  {
   "cell_type": "code",
   "execution_count": 18,
   "id": "81843cc0",
   "metadata": {},
   "outputs": [
    {
     "name": "stdout",
     "output_type": "stream",
     "text": [
      "0 LIST OF FOREIGN WORDS FOR IIFT\n",
      "1 acme\n",
      "2 Greek\n",
      "3 adieu\n",
      "4 French\n",
      "5 aeon\n",
      "6 Greek\n",
      "7 aficianado\n",
      "8 Spanish\n",
      "9 ahimsa\n",
      "10 Sanskrit\n"
     ]
    }
   ],
   "source": [
    "for i in range(len(page_text)):\n",
    "    print(i, page_text[i]) # Printing the index and the words to find a pattern.\n",
    "    if i == 10:\n",
    "        break"
   ]
  },
  {
   "cell_type": "markdown",
   "id": "c1e59b16",
   "metadata": {},
   "source": [
    "#### The pattern is every even index except for 0 has the language name, and the number before that has it's word."
   ]
  },
  {
   "cell_type": "code",
   "execution_count": 19,
   "id": "67e9a299",
   "metadata": {},
   "outputs": [],
   "source": [
    "for i in range(len(page_text) - 1):\n",
    "    if i % 2 == 0 and i != 0: \n",
    "        #print(page_text[i])\n",
    "        root_dict[page_text[i]] = [] # Keeping an empty list for every language and avoiding the 0th index."
   ]
  },
  {
   "cell_type": "code",
   "execution_count": 20,
   "id": "57401cdc",
   "metadata": {},
   "outputs": [],
   "source": [
    "for i in range(len(page_text) - 1):\n",
    "    if i % 2 == 0 and i != 0:\n",
    "        root_dict[page_text[i]].append(page_text[i-1]) # Appending the previous word to the language."
   ]
  },
  {
   "cell_type": "code",
   "execution_count": 21,
   "id": "df13a871",
   "metadata": {},
   "outputs": [],
   "source": [
    "df = pd.DataFrame(list(root_dict.items()),columns = ['language','words']) "
   ]
  },
  {
   "cell_type": "code",
   "execution_count": 22,
   "id": "9690301a",
   "metadata": {},
   "outputs": [
    {
     "data": {
      "text/html": [
       "<div>\n",
       "<style scoped>\n",
       "    .dataframe tbody tr th:only-of-type {\n",
       "        vertical-align: middle;\n",
       "    }\n",
       "\n",
       "    .dataframe tbody tr th {\n",
       "        vertical-align: top;\n",
       "    }\n",
       "\n",
       "    .dataframe thead th {\n",
       "        text-align: right;\n",
       "    }\n",
       "</style>\n",
       "<table border=\"1\" class=\"dataframe\">\n",
       "  <thead>\n",
       "    <tr style=\"text-align: right;\">\n",
       "      <th></th>\n",
       "      <th>language</th>\n",
       "      <th>words</th>\n",
       "    </tr>\n",
       "  </thead>\n",
       "  <tbody>\n",
       "    <tr>\n",
       "      <th>0</th>\n",
       "      <td>Greek</td>\n",
       "      <td>[acme, aeon, ambrosia, catharsis, charisma, co...</td>\n",
       "    </tr>\n",
       "    <tr>\n",
       "      <th>1</th>\n",
       "      <td>French</td>\n",
       "      <td>[adieu, bistro, bizarre, bourgeois, brouhaha, ...</td>\n",
       "    </tr>\n",
       "    <tr>\n",
       "      <th>2</th>\n",
       "      <td>Spanish</td>\n",
       "      <td>[aficianado, alcazar, armada, Bermuda shorts, ...</td>\n",
       "    </tr>\n",
       "    <tr>\n",
       "      <th>3</th>\n",
       "      <td>Sanskrit</td>\n",
       "      <td>[ahimsa, karma, mantra, nirvana, pundit, stupa...</td>\n",
       "    </tr>\n",
       "    <tr>\n",
       "      <th>4</th>\n",
       "      <td>Portuguese/Malay</td>\n",
       "      <td>[amok]</td>\n",
       "    </tr>\n",
       "  </tbody>\n",
       "</table>\n",
       "</div>"
      ],
      "text/plain": [
       "           language                                              words\n",
       "0             Greek  [acme, aeon, ambrosia, catharsis, charisma, co...\n",
       "1            French  [adieu, bistro, bizarre, bourgeois, brouhaha, ...\n",
       "2           Spanish  [aficianado, alcazar, armada, Bermuda shorts, ...\n",
       "3          Sanskrit  [ahimsa, karma, mantra, nirvana, pundit, stupa...\n",
       "4  Portuguese/Malay                                             [amok]"
      ]
     },
     "execution_count": 22,
     "metadata": {},
     "output_type": "execute_result"
    }
   ],
   "source": [
    "df.head()"
   ]
  },
  {
   "cell_type": "code",
   "execution_count": 23,
   "id": "48705288",
   "metadata": {},
   "outputs": [],
   "source": [
    "df.to_excel(\"output.xlsx\")  "
   ]
  },
  {
   "cell_type": "markdown",
   "id": "2558747d",
   "metadata": {},
   "source": [
    "#### After this I used the split function in excel to split the words in different columns (Not necessary)."
   ]
  },
  {
   "cell_type": "markdown",
   "id": "3df79bf8",
   "metadata": {},
   "source": [
    "![image](Output.png)"
   ]
  },
  {
   "cell_type": "code",
   "execution_count": null,
   "id": "4831a0e5",
   "metadata": {},
   "outputs": [],
   "source": []
  }
 ],
 "metadata": {
  "kernelspec": {
   "display_name": "Python 3 (ipykernel)",
   "language": "python",
   "name": "python3"
  },
  "language_info": {
   "codemirror_mode": {
    "name": "ipython",
    "version": 3
   },
   "file_extension": ".py",
   "mimetype": "text/x-python",
   "name": "python",
   "nbconvert_exporter": "python",
   "pygments_lexer": "ipython3",
   "version": "3.9.7"
  }
 },
 "nbformat": 4,
 "nbformat_minor": 5
}
